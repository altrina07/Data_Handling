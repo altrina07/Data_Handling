{
  "nbformat": 4,
  "nbformat_minor": 0,
  "metadata": {
    "colab": {
      "provenance": []
    },
    "kernelspec": {
      "name": "python3",
      "display_name": "Python 3"
    },
    "language_info": {
      "name": "python"
    }
  },
  "cells": [
    {
      "cell_type": "code",
      "source": [
        "import pandas as pd\n",
        "import numpy as np"
      ],
      "metadata": {
        "id": "TidjPaXSsQ2x"
      },
      "execution_count": null,
      "outputs": []
    },
    {
      "cell_type": "code",
      "source": [
        "data = pd.DataFrame([[2,1,6,np.nan,6,8,2,np.nan,3,9],\n",
        "                     [1,np.nan,4,np.nan,7,np.nan,5,4,np.nan,2],\n",
        "                     [3,np.nan,1,np.nan,np.nan,3,np.nan,np.nan,np.nan,1],\n",
        "                     [np.nan,4,2,3,np.nan,1,6,np.nan,8,3]],\n",
        "                     columns=['A','B','C','D','E','F','G','H','I','J'])"
      ],
      "metadata": {
        "collapsed": true,
        "id": "67puZ6E4se_z"
      },
      "execution_count": null,
      "outputs": []
    },
    {
      "cell_type": "code",
      "source": [
        "print(data)"
      ],
      "metadata": {
        "colab": {
          "base_uri": "https://localhost:8080/"
        },
        "id": "T-GceCVevyBr",
        "outputId": "5cece034-3502-4362-f0df-f87e4f3872a9"
      },
      "execution_count": null,
      "outputs": [
        {
          "output_type": "stream",
          "name": "stdout",
          "text": [
            "     A    B  C    D    E    F    G    H    I  J\n",
            "0  2.0  1.0  6  NaN  6.0  8.0  2.0  NaN  3.0  9\n",
            "1  1.0  NaN  4  NaN  7.0  NaN  5.0  4.0  NaN  2\n",
            "2  3.0  NaN  1  NaN  NaN  3.0  NaN  NaN  NaN  1\n",
            "3  NaN  4.0  2  3.0  NaN  1.0  6.0  NaN  8.0  3\n"
          ]
        }
      ]
    },
    {
      "cell_type": "code",
      "source": [
        "#count the number of NaN values\n",
        "print(data.isnull().sum(axis=0))"
      ],
      "metadata": {
        "colab": {
          "base_uri": "https://localhost:8080/"
        },
        "id": "ipC9-7TtwMpe",
        "outputId": "ba94218f-6172-4bae-dfa4-f6669e2ed969"
      },
      "execution_count": null,
      "outputs": [
        {
          "output_type": "stream",
          "name": "stdout",
          "text": [
            "A    1\n",
            "B    2\n",
            "C    0\n",
            "D    3\n",
            "E    2\n",
            "F    1\n",
            "G    1\n",
            "H    3\n",
            "I    2\n",
            "J    0\n",
            "dtype: int64\n"
          ]
        }
      ]
    },
    {
      "cell_type": "code",
      "source": [
        "print(data.isnull().sum(axis=1))"
      ],
      "metadata": {
        "colab": {
          "base_uri": "https://localhost:8080/"
        },
        "id": "yhJBzf2dwrS1",
        "outputId": "172e96f6-07e4-4e5f-ccd0-4ca2f03a73f6"
      },
      "execution_count": null,
      "outputs": [
        {
          "output_type": "stream",
          "name": "stdout",
          "text": [
            "0    2\n",
            "1    4\n",
            "2    6\n",
            "3    3\n",
            "dtype: int64\n"
          ]
        }
      ]
    },
    {
      "cell_type": "code",
      "source": [
        "#Since the columns D and H has 90% of missing values, we can drop both these variables\n",
        "data.drop(['D','H'],axis=1,inplace=True)"
      ],
      "metadata": {
        "id": "TDmNndOyw-Uh"
      },
      "execution_count": null,
      "outputs": []
    },
    {
      "cell_type": "code",
      "source": [
        "print(data)"
      ],
      "metadata": {
        "colab": {
          "base_uri": "https://localhost:8080/"
        },
        "id": "vuy9Fvl4x32u",
        "outputId": "c77c9c2c-f1ea-427e-c8f3-74cf3f780fa8"
      },
      "execution_count": null,
      "outputs": [
        {
          "output_type": "stream",
          "name": "stdout",
          "text": [
            "     A    B  C    E    F    G    I  J\n",
            "0  2.0  1.0  6  6.0  8.0  2.0  3.0  9\n",
            "1  1.0  NaN  4  7.0  NaN  5.0  NaN  2\n",
            "2  3.0  NaN  1  NaN  3.0  NaN  NaN  1\n",
            "3  NaN  4.0  2  NaN  1.0  6.0  8.0  3\n"
          ]
        }
      ]
    },
    {
      "cell_type": "code",
      "source": [
        "data['missing_A'] = data['A'].isnull().astype(int)\n",
        "print(data)"
      ],
      "metadata": {
        "colab": {
          "base_uri": "https://localhost:8080/"
        },
        "id": "duqB5xdm1u5k",
        "outputId": "5197f63e-5b68-4ea4-f0a2-6fef549b224f"
      },
      "execution_count": null,
      "outputs": [
        {
          "output_type": "stream",
          "name": "stdout",
          "text": [
            "     A    B  C    E    F    G    I  J  missing_A\n",
            "0  2.0  1.0  6  6.0  8.0  2.0  3.0  9          0\n",
            "1  1.0  NaN  4  7.0  NaN  5.0  NaN  2          0\n",
            "2  3.0  NaN  1  NaN  3.0  NaN  NaN  1          0\n",
            "3  NaN  4.0  2  NaN  1.0  6.0  8.0  3          1\n"
          ]
        }
      ]
    },
    {
      "cell_type": "code",
      "source": [
        "#Mean method\n",
        "\n",
        "data['A'].fillna(data['A'].mean(),inplace=True)\n",
        "data['F'].fillna(data['F'].mean(), inplace = True)\n",
        "data['G'].fillna(data['G'].mean(), inplace = True)\n",
        "\n",
        "print(data)"
      ],
      "metadata": {
        "colab": {
          "base_uri": "https://localhost:8080/"
        },
        "id": "z2VRUSnq1RCE",
        "outputId": "b8c5f409-a71e-4ec2-fd62-5ed7970f5d0e"
      },
      "execution_count": null,
      "outputs": [
        {
          "output_type": "stream",
          "name": "stdout",
          "text": [
            "     A    B  C    E    F         G    I  J  missing_A\n",
            "0  2.0  1.0  6  6.0  8.0  2.000000  3.0  9          0\n",
            "1  1.0  NaN  4  7.0  4.0  5.000000  NaN  2          0\n",
            "2  3.0  NaN  1  NaN  3.0  4.333333  NaN  1          0\n",
            "3  2.0  4.0  2  NaN  1.0  6.000000  8.0  3          1\n"
          ]
        }
      ]
    },
    {
      "cell_type": "code",
      "source": [
        "#Interpolation method\n",
        "\n",
        "data['B'].interpolate(method='linear',inplace = True)\n",
        "data['E'].interpolate(method='linear', inplace=True)\n",
        "data['I'].interpolate(methoda='linear', inplace=True)\n",
        "print(data)"
      ],
      "metadata": {
        "colab": {
          "base_uri": "https://localhost:8080/"
        },
        "id": "6O2wFQFW6D7W",
        "outputId": "5d53ee74-6277-4dc0-cabe-32031a5ff363"
      },
      "execution_count": null,
      "outputs": [
        {
          "output_type": "stream",
          "name": "stdout",
          "text": [
            "     A    B  C    E    F         G         I  J  missing_A\n",
            "0  2.0  1.0  6  6.0  8.0  2.000000  3.000000  9          0\n",
            "1  1.0  2.0  4  7.0  4.0  5.000000  4.666667  2          0\n",
            "2  3.0  3.0  1  7.0  3.0  4.333333  6.333333  1          0\n",
            "3  2.0  4.0  2  7.0  1.0  6.000000  8.000000  3          1\n"
          ]
        }
      ]
    }
  ]
}